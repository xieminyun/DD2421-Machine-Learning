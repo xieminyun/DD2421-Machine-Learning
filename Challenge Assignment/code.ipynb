{
 "cells": [
  {
   "cell_type": "code",
   "execution_count": 1,
   "metadata": {},
   "outputs": [],
   "source": [
    "import numpy as np\n",
    "import pandas as pd\n",
    "from sklearn.model_selection import train_test_split\n",
    "from sklearn.ensemble import AdaBoostClassifier\n",
    "from sklearn.metrics import accuracy_score\n",
    "from sklearn.tree import DecisionTreeClassifier\n",
    "from sklearn.preprocessing import OneHotEncoder\n",
    "from sklearn.svm import SVC\n",
    "from sklearn.ensemble import RandomForestClassifier\n",
    "from sklearn.ensemble import VotingClassifier\n",
    "from sklearn import decomposition\n"
   ]
  },
  {
   "cell_type": "code",
   "execution_count": 2,
   "metadata": {},
   "outputs": [],
   "source": [
    "# Read the dataset\n",
    "data = pd.read_csv(\"./TrainOnMe-6.csv\")\n",
    "data[\"x6\"] = data[\"x6\"].fillna(\"Empty\")\n",
    "indices_to_drop1 = data.index[data.iloc[:,6] == \"Ostra stationen\"]\n",
    "data = data.drop(indices_to_drop1, axis=0)\n",
    "indices_to_drop2 = data.index[data.iloc[:,1] == \"?\"]\n",
    "data = data.drop(indices_to_drop2, axis=0)\n",
    "indices_to_drop3 = data.index[data.iloc[:,0] == \"yckelharpa\"]\n",
    "data = data.drop(indices_to_drop3, axis=0)\n",
    "indices_to_drop4 = data.index[data.iloc[:,0] == \"erpent\"]\n",
    "data = data.drop(indices_to_drop4, axis=0)\n",
    "indices_to_drop5 = data.index[data.iloc[:,0] == \"ragspel\"]\n",
    "data = data.drop(indices_to_drop5, axis=0)\n",
    "\n",
    "data = data[(data['x11'] == \"True\") | (data['x11'] == \"False\")]\n",
    "data = data[(data['x12'] == \"True\") | (data['x12'] == \"False\")]\n",
    "data = data.replace(\"True\", 1.0)\n",
    "data = data.replace(\"False\", 0.0)\n",
    "data = data.dropna()\n",
    "\n",
    "\n",
    "# Divide the dataset into attributes and labels\n",
    "y = data.iloc[:, 0].values\n",
    "X = data.drop(['y'], axis=1)\n",
    "\n",
    "# Encode y and x6\n",
    "y = pd.get_dummies(y).values\n",
    "np.set_printoptions(threshold=np.inf)\n",
    "y = np.argmax(y, axis=1)\n",
    "\n",
    "X_encoded = pd.get_dummies(X.iloc[:, 5], prefix=X.columns[5])\n",
    "X = pd.concat([X.iloc[:, :5], X_encoded, X.iloc[:, 6:]], axis=1)\n",
    "\n",
    "# Divide dataset into train set and test set\n",
    "X_train, X_test, y_train, y_test = train_test_split(X, y, test_size=0.2, random_state=42)\n",
    "\n"
   ]
  },
  {
   "cell_type": "code",
   "execution_count": 3,
   "metadata": {},
   "outputs": [
    {
     "name": "stdout",
     "output_type": "stream",
     "text": [
      "Voting Classifier Accuracy: 0.7286432160804021\n",
      "Ada Classifier Accuracy: 0.6984924623115578\n",
      "Rf Classifier Accuracy: 0.7085427135678392\n"
     ]
    }
   ],
   "source": [
    "\n",
    "# Use boosting decision tree, random forest\n",
    "dct_clf1 = DecisionTreeClassifier(max_depth=X_train.shape[1] / 2 - 1)\n",
    "dct_clf2 = DecisionTreeClassifier(max_depth=X_train.shape[1] / 2)\n",
    "\n",
    "rf_clf1 = RandomForestClassifier(n_estimators=100, max_depth=10, random_state=42)\n",
    "rf_clf2 = RandomForestClassifier(n_estimators=200, max_depth=15, random_state=2022)\n",
    "rf_clf3 = RandomForestClassifier(n_estimators=50, max_depth=5, random_state=666)\n",
    "\n",
    "ada_clf1 = AdaBoostClassifier(base_estimator=dct_clf1, n_estimators=50, learning_rate=0.1, random_state=42)\n",
    "ada_clf2 = AdaBoostClassifier(base_estimator=dct_clf1, n_estimators=100, learning_rate=0.5, random_state=2022)\n",
    "ada_clf3 = AdaBoostClassifier(base_estimator=dct_clf1, n_estimators=20, learning_rate=0.01, random_state=666)\n",
    "\n",
    "\n",
    "# Create a voting classifier\n",
    "voting_clf = VotingClassifier(estimators=[ \n",
    "    ('rf1', rf_clf1),\n",
    "    ('rf2', rf_clf2),\n",
    "    ('rf3', rf_clf3),\n",
    "    ('ada1', ada_clf1),\n",
    "    ('ada2', ada_clf2),\n",
    "    ('ada3', ada_clf3)], voting='soft')\n",
    "\n",
    "# Fit the voting classifier on the training data\n",
    "voting_clf.fit(X_train, y_train)\n",
    "ada_clf1.fit(X_train, y_train)\n",
    "rf_clf1.fit(X_train, y_train)\n",
    "\n",
    "# Evaluate the accuracy of the voting classifier on the test data\n",
    "y_pred_vote = voting_clf.predict(X_test)\n",
    "y_pred_ada = ada_clf1.predict(X_test)\n",
    "y_pred_rf = rf_clf1.predict(X_test)\n",
    "accuracy_vote = accuracy_score(y_test, y_pred_vote)\n",
    "accuracy_ada = accuracy_score(y_test, y_pred_ada)\n",
    "accuracy_rf = accuracy_score(y_test, y_pred_rf)\n",
    "print(\"Voting Classifier Accuracy:\", accuracy_vote)\n",
    "print(\"Ada Classifier Accuracy:\", accuracy_ada)\n",
    "print(\"Rf Classifier Accuracy:\", accuracy_rf)"
   ]
  },
  {
   "cell_type": "code",
   "execution_count": null,
   "metadata": {},
   "outputs": [],
   "source": [
    "val_Set = pd.read_csv(\"./EvaluateOnMe-6.csv\")\n",
    "val_Set[\"x6\"] = val_Set[\"x6\"].fillna(\"Empty\")\n",
    "val_Set = val_Set.replace(\"True\", 1.0)\n",
    "val_Set = val_Set.replace(\"False\", 0.0)\n",
    "val_encoded = pd.get_dummies(val_Set.iloc[:, 5], prefix=val_Set.columns[5])\n",
    "val_X = pd.concat([val_Set.iloc[:, :5], val_encoded, val_Set.iloc[:, 6:]], axis=1)\n",
    "y_out = voting_clf.predict(val_X)\n",
    "\n",
    "with open('./Results.txt', 'w') as f:\n",
    "\tfor i in range(len(y_out)):\n",
    "\t\tif(y_out[i] == 0):\n",
    "\t\t\tf.write(\"%s\\n\" % \"Dragspel\")\n",
    "\t\tif(y_out[i] == 1):\n",
    "\t\t\tf.write(\"%s\\n\" % \"Nyckelharpa\")\n",
    "\t\tif(y_out[i] == 2):\n",
    "\t\t\tf.write(\"%s\\n\" % \"Serpent\")"
   ]
  }
 ],
 "metadata": {
  "kernelspec": {
   "display_name": "venv",
   "language": "python",
   "name": "python3"
  },
  "language_info": {
   "codemirror_mode": {
    "name": "ipython",
    "version": 3
   },
   "file_extension": ".py",
   "mimetype": "text/x-python",
   "name": "python",
   "nbconvert_exporter": "python",
   "pygments_lexer": "ipython3",
   "version": "3.7.16"
  },
  "orig_nbformat": 4
 },
 "nbformat": 4,
 "nbformat_minor": 2
}
