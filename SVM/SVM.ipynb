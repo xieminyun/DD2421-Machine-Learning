{
 "cells": [
  {
   "cell_type": "code",
   "execution_count": 1946,
   "metadata": {},
   "outputs": [],
   "source": [
    "import numpy as np\n",
    "import random\n",
    "from scipy.optimize import minimize\n",
    "import matplotlib.pyplot as plt"
   ]
  },
  {
   "attachments": {},
   "cell_type": "markdown",
   "metadata": {},
   "source": [
    "### Generating data"
   ]
  },
  {
   "cell_type": "code",
   "execution_count": 1947,
   "metadata": {},
   "outputs": [],
   "source": [
    "np.random.seed(100)\n",
    "classA = np.concatenate((\n",
    "    np.random.randn(10, 2) * 0.3 + [1.5, 0],\n",
    "    np.random.randn(10, 2) * 0.3 + [-1.5, 0],\n",
    " ))\n",
    "classB = np.random.randn(20, 2) * 0.3 + [0.0, -0.5]\n",
    "\n",
    "inputs = np.concatenate((classA, classB))\n",
    "targets = np.concatenate((\n",
    "    np.ones(classA.shape[0]),\n",
    "    -np.ones(classB.shape[0])\n",
    "))\n",
    "N = inputs.shape[0]\n",
    "permute = list(range(N))\n",
    "# return a shuffled list\n",
    "random.shuffle(permute)\n",
    "inputs = inputs[permute, :]\n",
    "targets = targets[permute]"
   ]
  },
  {
   "attachments": {},
   "cell_type": "markdown",
   "metadata": {},
   "source": [
    "### Kernel function"
   ]
  },
  {
   "cell_type": "code",
   "execution_count": 1948,
   "metadata": {},
   "outputs": [],
   "source": [
    "def linear_kernel(x1, x2):\n",
    "\treturn np.dot(x1, x2)\n",
    "    \n",
    "def polynomial_kernel(x1, x2, p = 6):\n",
    "\treturn np.power((np.dot(x1, x2) + 1), p)\n",
    "\n",
    "def RBF_kernel(x1, x2, sigma = 5):\n",
    "\tdiff = np.subtract(x1, x2)\n",
    "\treturn np.exp(- np.dot(diff, diff) / (2 * (sigma ** 2)))"
   ]
  },
  {
   "cell_type": "code",
   "execution_count": 1949,
   "metadata": {},
   "outputs": [],
   "source": [
    "kernel = RBF_kernel\n",
    "p_matrix = np.zeros((N, N))\n",
    "for i in range(N):\n",
    "    for j in range(N):\n",
    "        p_matrix[i][j] = targets[i] * targets[j] * kernel(inputs[i], inputs[j])\n",
    "    \n",
    "def zerofun(alpha):\n",
    "    return np.dot(alpha, targets)\n",
    "\n",
    "def objective(alpha):\n",
    "    return 0.5 * np.dot(alpha, np.dot(alpha, p_matrix)) - np.sum(alpha)"
   ]
  },
  {
   "cell_type": "code",
   "execution_count": 1954,
   "metadata": {},
   "outputs": [
    {
     "name": "stdout",
     "output_type": "stream",
     "text": [
      "[(1026.0972649683004, array([-1.14311332, -0.50718505]), 1.0), (293.82707680464864, array([-1.0143055 ,  0.46248155]), 1.0), (33.1937992436854, array([ 0.61038227, -0.66521432]), -1.0), (660.1051835816884, array([-0.55235649, -0.39017203]), -1.0), (549.3488127751313, array([0.97507036, 0.10280412]), 1.0), (1175.9741717231748, array([-0.48407355, -0.05878584]), -1.0)]\n"
     ]
    }
   ],
   "source": [
    "start = np.zeros(N) # N is the number of training samples\n",
    "C = 10000\n",
    "\n",
    "B = [(0, C) for b in range(N)]\n",
    "\n",
    "XC = {'type':'eq', 'fun':zerofun}\n",
    "\n",
    "ret = minimize(objective, start, bounds=B, constraints=XC)\n",
    "if(not ret['success']):\n",
    "    raise ValueError(\"Can't find a soluition\")\n",
    "alpha = ret['x']\n",
    "nonzeros = [(alpha[i], inputs[i], targets[i]) for i in range(N) if np.abs(alpha[i] > 10e-5)]\n",
    "print(nonzeros)\n",
    "# Threshold value b\n",
    "sum = 0\n",
    "for support_vec in nonzeros:\n",
    "    sum += support_vec[0] * support_vec[2] * kernel(nonzeros[0][1],support_vec[1])\n",
    "b = sum - nonzeros[0][2]\n",
    "\n",
    "def indicator(x, y):\n",
    "    temp = 0\n",
    "    for support_vec in nonzeros:\n",
    "        temp += support_vec[0] * support_vec[2] * kernel([x,y], support_vec[1])\n",
    "    return temp - b"
   ]
  },
  {
   "cell_type": "code",
   "execution_count": 1955,
   "metadata": {},
   "outputs": [
    {
     "data": {
      "image/png": "[encoded data removed]",
      "text/plain": [
       "<Figure size 640x480 with 1 Axes>"
      ]
     },
     "metadata": {},
     "output_type": "display_data"
    }
   ],
   "source": [
    "plt.plot([p[0] for p in classA], [p[1] for p in classA], 'b.' )\n",
    "plt.plot([p[0] for p in classB], [p[1] for p in classB], 'r.' )\n",
    "\n",
    "xgrid = np.linspace(-5, 5, 100)\n",
    "ygrid = np.linspace(-4, 4, 100)\n",
    "\n",
    "grid = np.array([[indicator(x, y) for x in xgrid] for y in ygrid])\n",
    "plt.contour(xgrid, ygrid, grid, (-1.0, 0.0, 1.0), colors=('red','black','blue'), linewidths=(1,3,1))\n",
    "plt.show()"
   ]
  }
 ],
 "metadata": {
  "kernelspec": {
   "display_name": "venv",
   "language": "python",
   "name": "python3"
  },
  "language_info": {
   "codemirror_mode": {
    "name": "ipython",
    "version": 3
   },
   "file_extension": ".py",
   "mimetype": "text/x-python",
   "name": "python",
   "nbconvert_exporter": "python",
   "pygments_lexer": "ipython3",
   "version": "3.7.16"
  },
  "orig_nbformat": 4,
  "vscode": {
   "interpreter": {
    "hash": "53ec8b7a5f35211fc67f523f0b5894a1a85dc6431b4942b6f88e8747605dfd3f"
   }
  }
 },
 "nbformat": 4,
 "nbformat_minor": 2
}
