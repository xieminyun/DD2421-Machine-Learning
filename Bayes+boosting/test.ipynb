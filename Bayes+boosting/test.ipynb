{
 "cells": [
  {
   "cell_type": "code",
   "execution_count": 2,
   "metadata": {},
   "outputs": [
    {
     "data": {
      "image/png": "[encoded data removed]",
      "text/plain": [
       "<Figure size 640x480 with 1 Axes>"
      ]
     },
     "metadata": {},
     "output_type": "display_data"
    }
   ],
   "source": [
    "import numpy as np\n",
    "import lab3 as lb"
   ]
  },
  {
   "cell_type": "code",
   "execution_count": 3,
   "metadata": {},
   "outputs": [
    {
     "name": "stdout",
     "output_type": "stream",
     "text": [
      "[[0.4]\n",
      " [0.2]\n",
      " [0.4]]\n"
     ]
    }
   ],
   "source": [
    "labels = np.array([[1], [2], [3], [3], [1]])\n",
    "pr = lb.computePrior(labels)\n",
    "print(pr)"
   ]
  },
  {
   "cell_type": "code",
   "execution_count": 16,
   "metadata": {},
   "outputs": [
    {
     "name": "stdout",
     "output_type": "stream",
     "text": [
      "[[36 36]\n",
      " [ 4  4]\n",
      " [16 16]]\n",
      "[[56 56]\n",
      " [56 56]]\n",
      "[[56  0]\n",
      " [ 0 56]]\n"
     ]
    }
   ],
   "source": [
    "a = np.array([[-6,-6], [2,2], [4, 4]])\n",
    "b = np.square(a)\n",
    "print(b)\n",
    "c = np.dot(a.T, a)\n",
    "d = np.diag(np.sum(b, axis=0))\n",
    "print(c)\n",
    "print(d)\n",
    "# c = np.diag(b)\n",
    "# c"
   ]
  },
  {
   "cell_type": "code",
   "execution_count": 21,
   "metadata": {},
   "outputs": [
    {
     "name": "stdout",
     "output_type": "stream",
     "text": [
      "[[2 4]\n",
      " [6 8]]\n"
     ]
    }
   ],
   "source": [
    "a = np.array([[1,2], [3,4]])\n",
    "b = np.array([[2,2], [2,2]])\n",
    "print(a * b)"
   ]
  },
  {
   "cell_type": "code",
   "execution_count": 23,
   "metadata": {},
   "outputs": [
    {
     "data": {
      "text/plain": [
       "0"
      ]
     },
     "execution_count": 23,
     "metadata": {},
     "output_type": "execute_result"
    }
   ],
   "source": [
    "a = 3 * False\n",
    "a"
   ]
  },
  {
   "cell_type": "code",
   "execution_count": 5,
   "metadata": {},
   "outputs": [
    {
     "name": "stdout",
     "output_type": "stream",
     "text": [
      "[[0 1]\n",
      " [2 3]\n",
      " [4 5]\n",
      " [6 7]\n",
      " [8 9]]\n",
      "[[4. 5.]\n",
      " [2. 3.]\n",
      " [5. 6.]]\n",
      "[[[16. 16.]\n",
      "  [16. 16.]]\n",
      "\n",
      " [[ 0.  0.]\n",
      "  [ 0.  0.]]\n",
      "\n",
      " [[ 1.  1.]\n",
      "  [ 1.  1.]]]\n"
     ]
    }
   ],
   "source": [
    "labels = np.array([[1], [2], [3], [3], [1]])\n",
    "X = np.arange(10).reshape(5, 2)\n",
    "print(X)\n",
    "Npts = labels.shape[0]\n",
    "classes = np.unique(labels)\n",
    "Nclasses = np.size(classes)\n",
    "mu = np.zeros((Nclasses,2))\n",
    "sigma = np.zeros((Nclasses,2, 2))\n",
    "for jdx, dif_class in enumerate(classes):\n",
    "        idx = np.where(labels == dif_class)[0]\n",
    "        xlc = X[idx,:]\n",
    "        mu[jdx,:] = np.mean(xlc, axis = 0)\n",
    "        sigma[jdx, :] = np.dot((xlc - mu[jdx]).T,(xlc - mu[jdx])) / np.size(idx)\n",
    "print(mu)\n",
    "print(sigma)\n",
    "    \n"
   ]
  },
  {
   "cell_type": "code",
   "execution_count": 6,
   "metadata": {},
   "outputs": [
    {
     "data": {
      "text/plain": [
       "array([0.25, 0.25, 0.25])"
      ]
     },
     "execution_count": 6,
     "metadata": {},
     "output_type": "execute_result"
    }
   ],
   "source": [
    "a = np.ones((3, 3)) * 4\n",
    "b = np.diag(a)\n",
    "c = 1 / b\n",
    "c"
   ]
  },
  {
   "cell_type": "code",
   "execution_count": 7,
   "metadata": {},
   "outputs": [
    {
     "data": {
      "text/plain": [
       "2"
      ]
     },
     "execution_count": 7,
     "metadata": {},
     "output_type": "execute_result"
    }
   ],
   "source": [
    "a = np.arange(9)\n",
    "a[2]"
   ]
  },
  {
   "cell_type": "code",
   "execution_count": 8,
   "metadata": {},
   "outputs": [
    {
     "name": "stdout",
     "output_type": "stream",
     "text": [
      "(2, 2)\n"
     ]
    }
   ],
   "source": [
    "a = np.arange(4).reshape((2,2))\n",
    "b = np.diag(np.diag(a))\n",
    "print(b.shape)"
   ]
  },
  {
   "cell_type": "code",
   "execution_count": 9,
   "metadata": {},
   "outputs": [
    {
     "name": "stdout",
     "output_type": "stream",
     "text": [
      "[[0 1]\n",
      " [2 3]\n",
      " [4 5]\n",
      " [6 7]\n",
      " [8 9]]\n",
      "[[2 3]\n",
      " [6 7]]\n"
     ]
    }
   ],
   "source": [
    "X = np.arange(10).reshape(5, 2)\n",
    "n = [1, 3]\n",
    "print(X)\n",
    "print(X[n])"
   ]
  }
 ],
 "metadata": {
  "kernelspec": {
   "display_name": "venv",
   "language": "python",
   "name": "python3"
  },
  "language_info": {
   "codemirror_mode": {
    "name": "ipython",
    "version": 3
   },
   "file_extension": ".py",
   "mimetype": "text/x-python",
   "name": "python",
   "nbconvert_exporter": "python",
   "pygments_lexer": "ipython3",
   "version": "3.7.16"
  },
  "orig_nbformat": 4,
  "vscode": {
   "interpreter": {
    "hash": "53ec8b7a5f35211fc67f523f0b5894a1a85dc6431b4942b6f88e8747605dfd3f"
   }
  }
 },
 "nbformat": 4,
 "nbformat_minor": 2
}
